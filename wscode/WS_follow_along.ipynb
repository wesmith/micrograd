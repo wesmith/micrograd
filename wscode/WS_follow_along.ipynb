{
 "cells": [
  {
   "cell_type": "markdown",
   "id": "60f06fd8-0727-45a2-a08d-4ea33dddeea5",
   "metadata": {},
   "source": [
    "# WS_follow_along\n",
    "# WESmith 06/01/23\n",
    "## follow along with Karpathy video https://www.youtube.com/watch?v=VMj-3S1tku0"
   ]
  },
  {
   "cell_type": "code",
   "execution_count": 1,
   "id": "e3159ec9-bd3e-441a-8ae5-6c76ad58d36d",
   "metadata": {},
   "outputs": [],
   "source": [
    "import math\n",
    "import numpy as np\n",
    "from graphviz import Digraph\n",
    "import matplotlib.pyplot as plt\n",
    "%matplotlib inline"
   ]
  },
  {
   "cell_type": "code",
   "execution_count": 2,
   "id": "335f30d7-24a7-4bdd-8c39-87967685a199",
   "metadata": {},
   "outputs": [],
   "source": [
    "def f(x):\n",
    "    return 3 * x**2 - 4 * x + 5"
   ]
  },
  {
   "cell_type": "code",
   "execution_count": 3,
   "id": "f0597cde-d250-4e99-9f7f-874e8f91e882",
   "metadata": {},
   "outputs": [
    {
     "data": {
      "text/plain": [
       "20.0"
      ]
     },
     "execution_count": 3,
     "metadata": {},
     "output_type": "execute_result"
    }
   ],
   "source": [
    "f(3.0)"
   ]
  },
  {
   "cell_type": "code",
   "execution_count": 4,
   "id": "d437270c-219c-49fa-bfd9-c922cdc95fe9",
   "metadata": {},
   "outputs": [
    {
     "data": {
      "image/png": "[encoded data removed]",
      "text/plain": [
       "<Figure size 432x288 with 1 Axes>"
      ]
     },
     "metadata": {
      "needs_background": "light"
     },
     "output_type": "display_data"
    }
   ],
   "source": [
    "xs = np.arange(-5, 5, 0.25)\n",
    "ys = f(xs)\n",
    "plt.plot(xs, ys)\n",
    "plt.grid()"
   ]
  },
  {
   "cell_type": "code",
   "execution_count": 5,
   "id": "22a47c0b-454e-43cb-b041-5ec74dcb7d40",
   "metadata": {},
   "outputs": [],
   "source": [
    "def diff(f, x, h=0.0001):  # WS\n",
    "    return (f(x + h) - f(x))/h"
   ]
  },
  {
   "cell_type": "code",
   "execution_count": 6,
   "id": "3077d0c4-cb4a-4226-a678-6ed3122eb7f4",
   "metadata": {},
   "outputs": [
    {
     "data": {
      "text/plain": [
       "(14.00000009255109, -22.00000039920269, 0.0)"
      ]
     },
     "execution_count": 6,
     "metadata": {},
     "output_type": "execute_result"
    }
   ],
   "source": [
    "h = 1e-8\n",
    "diff(f, 3, h=h), diff(f, -3, h=h), diff(f, 2/3, h=h)"
   ]
  },
  {
   "cell_type": "code",
   "execution_count": 7,
   "id": "cb144c1e-15b9-4da8-ad08-2823889a6c5b",
   "metadata": {},
   "outputs": [
    {
     "name": "stdout",
     "output_type": "stream",
     "text": [
      "4.0\n"
     ]
    }
   ],
   "source": [
    "h = 0.0001\n",
    "a =  2.0\n",
    "b = -3.0\n",
    "c = 10.0\n",
    "d = a * b + c\n",
    "print(d)"
   ]
  },
  {
   "cell_type": "code",
   "execution_count": 29,
   "id": "50dbc4ae-0456-4b2f-b17a-aceeb2a2c19c",
   "metadata": {},
   "outputs": [],
   "source": [
    "class Value:\n",
    "    \n",
    "    def __init__(self, data, _children=(), _op='', label=''):\n",
    "        self.data  = data\n",
    "        self.grad  = 0.0\n",
    "        self._prev = set(_children)\n",
    "        self._op   = _op\n",
    "        self.label = label\n",
    "        \n",
    "    def __repr__(self):\n",
    "        return f\"Value(data={self.data})\"\n",
    "    \n",
    "    def __add__(self, other):\n",
    "        out = Value(self.data + other.data, (self, other), '+')\n",
    "        return out\n",
    "\n",
    "    def __mul__(self, other):\n",
    "        out = Value(self.data * other.data, (self, other), '*')\n",
    "        return out\n"
   ]
  },
  {
   "cell_type": "code",
   "execution_count": 39,
   "id": "c9cfe196-a7d3-4b69-88c8-d4cbd239d486",
   "metadata": {},
   "outputs": [
    {
     "data": {
      "text/plain": [
       "(Value(data=-1.0), Value(data=-6.0), Value(data=4.0))"
      ]
     },
     "execution_count": 39,
     "metadata": {},
     "output_type": "execute_result"
    }
   ],
   "source": [
    "a = Value( 2.0, label='a')\n",
    "b = Value(-3.0, label='b')\n",
    "c = Value(10.0, label='c')\n",
    "e = a * b; e.label='e'\n",
    "d = e + c; d.label='d'\n",
    "f = Value(-2.0, label='f')\n",
    "L = d * f; L.label='L'\n",
    "L.grad = 1 # root node\n",
    "a + b, a * b, d"
   ]
  },
  {
   "cell_type": "code",
   "execution_count": 40,
   "id": "971bfc53-b032-45e3-bb8c-71b0162e9829",
   "metadata": {},
   "outputs": [
    {
     "data": {
      "text/plain": [
       "(Value(data=-1.0), Value(data=-6.0))"
      ]
     },
     "execution_count": 40,
     "metadata": {},
     "output_type": "execute_result"
    }
   ],
   "source": [
    "a.__add__(b), a.__mul__(b)  # equivalent"
   ]
  },
  {
   "cell_type": "code",
   "execution_count": 41,
   "id": "5d225204-f88f-4890-b406-8390b8968d65",
   "metadata": {},
   "outputs": [
    {
     "data": {
      "text/plain": [
       "({Value(data=-6.0), Value(data=10.0)}, '+', set)"
      ]
     },
     "execution_count": 41,
     "metadata": {},
     "output_type": "execute_result"
    }
   ],
   "source": [
    "d._prev, d._op, type(d._prev)"
   ]
  },
  {
   "cell_type": "code",
   "execution_count": 50,
   "id": "ef1a69c6-c689-403b-b017-2bdbc9748606",
   "metadata": {},
   "outputs": [],
   "source": [
    "def trace(root):\n",
    "    # builds a set of all nodes and edges in a graph\n",
    "    nodes, edges = set(), set()\n",
    "    def build(v):\n",
    "        if v not in nodes:\n",
    "            nodes.add(v)\n",
    "            for child in v._prev:\n",
    "                edges.add((child, v))\n",
    "                build(child)\n",
    "    build(root)\n",
    "    return nodes, edges\n",
    "\n",
    "def draw_dot(root):\n",
    "    dot = Digraph(format='svg', graph_attr={'rankdir': 'LR'}) # left to right\n",
    "    \n",
    "    nodes, edges = trace(root)\n",
    "    for n in nodes:\n",
    "        uid = str(id(n)) # WS built-in id() returns the identity of the object\n",
    "        # for any value in the graph, create a rectangular ('record') node for it\n",
    "        dot.node(name=uid, label='{%s | data %.4f | grad %.4f}' %\\\n",
    "                 (n.label, n.data, n.grad), shape='record')\n",
    "        if n._op:\n",
    "            # if this value is a result of some operation, create an op node for it\n",
    "            dot.node(name=uid + n._op, label=n._op)\n",
    "            # and connect this node to it\n",
    "            dot.edge(uid + n._op, uid)\n",
    "            \n",
    "    for n1, n2 in edges:\n",
    "        # connect n1 to the op node of n2\n",
    "        dot.edge(str(id(n1)), str(id(n2)) + n2._op)\n",
    "        \n",
    "    return dot"
   ]
  },
  {
   "cell_type": "code",
   "execution_count": 51,
   "id": "edd421e9-79c6-4e6f-afef-c1853417646e",
   "metadata": {},
   "outputs": [
    {
     "data": {
      "image/svg+xml": [
       "<?xml version=\"1.0\" encoding=\"UTF-8\" standalone=\"no\"?>\n",
       "<!DOCTYPE svg PUBLIC \"-//W3C//DTD SVG 1.1//EN\"\n",
       " \"http://www.w3.org/Graphics/SVG/1.1/DTD/svg11.dtd\">\n",
       "<!-- Generated by graphviz version 2.43.0 (0)\n",
       " -->\n",
       "<!-- Title: %3 Pages: 1 -->\n",
       "<svg width=\"1332pt\" height=\"154pt\"\n",
       " viewBox=\"0.00 0.00 1332.00 154.00\" xmlns=\"http://www.w3.org/2000/svg\" xmlns:xlink=\"http://www.w3.org/1999/xlink\">\n",
       "<g id=\"graph0\" class=\"graph\" transform=\"scale(1 1) rotate(0) translate(4 150)\">\n",
       "<title>%3</title>\n",
       "<polygon fill=\"white\" stroke=\"transparent\" points=\"-4,4 -4,-150 1328,-150 1328,4 -4,4\"/>\n",
       "<!-- 140666228520464 -->\n",
       "<g id=\"node1\" class=\"node\">\n",
       "<title>140666228520464</title>\n",
       "<polygon fill=\"none\" stroke=\"black\" points=\"728,-109.5 728,-145.5 961,-145.5 961,-109.5 728,-109.5\"/>\n",
       "<text text-anchor=\"middle\" x=\"739\" y=\"-123.8\" font-family=\"Times,serif\" font-size=\"14.00\">f</text>\n",
       "<polyline fill=\"none\" stroke=\"black\" points=\"750,-109.5 750,-145.5 \"/>\n",
       "<text text-anchor=\"middle\" x=\"803.5\" y=\"-123.8\" font-family=\"Times,serif\" font-size=\"14.00\">data &#45;2.0000</text>\n",
       "<polyline fill=\"none\" stroke=\"black\" points=\"857,-109.5 857,-145.5 \"/>\n",
       "<text text-anchor=\"middle\" x=\"909\" y=\"-123.8\" font-family=\"Times,serif\" font-size=\"14.00\">grad 0.0000</text>\n",
       "</g>\n",
       "<!-- 140666228519216* -->\n",
       "<g id=\"node9\" class=\"node\">\n",
       "<title>140666228519216*</title>\n",
       "<ellipse fill=\"none\" stroke=\"black\" cx=\"1024\" cy=\"-99.5\" rx=\"27\" ry=\"18\"/>\n",
       "<text text-anchor=\"middle\" x=\"1024\" y=\"-95.8\" font-family=\"Times,serif\" font-size=\"14.00\">*</text>\n",
       "</g>\n",
       "<!-- 140666228520464&#45;&gt;140666228519216* -->\n",
       "<g id=\"edge6\" class=\"edge\">\n",
       "<title>140666228520464&#45;&gt;140666228519216*</title>\n",
       "<path fill=\"none\" stroke=\"black\" d=\"M959.67,-109.49C969.61,-107.92 979.08,-106.43 987.53,-105.1\"/>\n",
       "<polygon fill=\"black\" stroke=\"black\" points=\"988.31,-108.52 997.64,-103.5 987.22,-101.6 988.31,-108.52\"/>\n",
       "</g>\n",
       "<!-- 140666228509808 -->\n",
       "<g id=\"node2\" class=\"node\">\n",
       "<title>140666228509808</title>\n",
       "<polygon fill=\"none\" stroke=\"black\" points=\"363,-82.5 363,-118.5 602,-118.5 602,-82.5 363,-82.5\"/>\n",
       "<text text-anchor=\"middle\" x=\"375\" y=\"-96.8\" font-family=\"Times,serif\" font-size=\"14.00\">c</text>\n",
       "<polyline fill=\"none\" stroke=\"black\" points=\"387,-82.5 387,-118.5 \"/>\n",
       "<text text-anchor=\"middle\" x=\"442.5\" y=\"-96.8\" font-family=\"Times,serif\" font-size=\"14.00\">data 10.0000</text>\n",
       "<polyline fill=\"none\" stroke=\"black\" points=\"498,-82.5 498,-118.5 \"/>\n",
       "<text text-anchor=\"middle\" x=\"550\" y=\"-96.8\" font-family=\"Times,serif\" font-size=\"14.00\">grad 0.0000</text>\n",
       "</g>\n",
       "<!-- 140666228509952+ -->\n",
       "<g id=\"node7\" class=\"node\">\n",
       "<title>140666228509952+</title>\n",
       "<ellipse fill=\"none\" stroke=\"black\" cx=\"665\" cy=\"-72.5\" rx=\"27\" ry=\"18\"/>\n",
       "<text text-anchor=\"middle\" x=\"665\" y=\"-68.8\" font-family=\"Times,serif\" font-size=\"14.00\">+</text>\n",
       "</g>\n",
       "<!-- 140666228509808&#45;&gt;140666228509952+ -->\n",
       "<g id=\"edge7\" class=\"edge\">\n",
       "<title>140666228509808&#45;&gt;140666228509952+</title>\n",
       "<path fill=\"none\" stroke=\"black\" d=\"M599.6,-82.49C609.91,-80.89 619.74,-79.37 628.46,-78.01\"/>\n",
       "<polygon fill=\"black\" stroke=\"black\" points=\"629.18,-81.44 638.52,-76.45 628.1,-74.53 629.18,-81.44\"/>\n",
       "</g>\n",
       "<!-- 140666228514512 -->\n",
       "<g id=\"node3\" class=\"node\">\n",
       "<title>140666228514512</title>\n",
       "<polygon fill=\"none\" stroke=\"black\" points=\"364.5,-27.5 364.5,-63.5 600.5,-63.5 600.5,-27.5 364.5,-27.5\"/>\n",
       "<text text-anchor=\"middle\" x=\"377\" y=\"-41.8\" font-family=\"Times,serif\" font-size=\"14.00\">e</text>\n",
       "<polyline fill=\"none\" stroke=\"black\" points=\"389.5,-27.5 389.5,-63.5 \"/>\n",
       "<text text-anchor=\"middle\" x=\"443\" y=\"-41.8\" font-family=\"Times,serif\" font-size=\"14.00\">data &#45;6.0000</text>\n",
       "<polyline fill=\"none\" stroke=\"black\" points=\"496.5,-27.5 496.5,-63.5 \"/>\n",
       "<text text-anchor=\"middle\" x=\"548.5\" y=\"-41.8\" font-family=\"Times,serif\" font-size=\"14.00\">grad 0.0000</text>\n",
       "</g>\n",
       "<!-- 140666228514512&#45;&gt;140666228509952+ -->\n",
       "<g id=\"edge5\" class=\"edge\">\n",
       "<title>140666228514512&#45;&gt;140666228509952+</title>\n",
       "<path fill=\"none\" stroke=\"black\" d=\"M600.62,-63.02C610.5,-64.5 619.9,-65.9 628.3,-67.16\"/>\n",
       "<polygon fill=\"black\" stroke=\"black\" points=\"627.95,-70.65 638.36,-68.66 628.99,-63.72 627.95,-70.65\"/>\n",
       "</g>\n",
       "<!-- 140666228514512* -->\n",
       "<g id=\"node4\" class=\"node\">\n",
       "<title>140666228514512*</title>\n",
       "<ellipse fill=\"none\" stroke=\"black\" cx=\"300\" cy=\"-45.5\" rx=\"27\" ry=\"18\"/>\n",
       "<text text-anchor=\"middle\" x=\"300\" y=\"-41.8\" font-family=\"Times,serif\" font-size=\"14.00\">*</text>\n",
       "</g>\n",
       "<!-- 140666228514512*&#45;&gt;140666228514512 -->\n",
       "<g id=\"edge1\" class=\"edge\">\n",
       "<title>140666228514512*&#45;&gt;140666228514512</title>\n",
       "<path fill=\"none\" stroke=\"black\" d=\"M327.25,-45.5C335.09,-45.5 344.27,-45.5 354.17,-45.5\"/>\n",
       "<polygon fill=\"black\" stroke=\"black\" points=\"354.28,-49 364.28,-45.5 354.28,-42 354.28,-49\"/>\n",
       "</g>\n",
       "<!-- 140666228516576 -->\n",
       "<g id=\"node5\" class=\"node\">\n",
       "<title>140666228516576</title>\n",
       "<polygon fill=\"none\" stroke=\"black\" points=\"0,-55.5 0,-91.5 237,-91.5 237,-55.5 0,-55.5\"/>\n",
       "<text text-anchor=\"middle\" x=\"13\" y=\"-69.8\" font-family=\"Times,serif\" font-size=\"14.00\">b</text>\n",
       "<polyline fill=\"none\" stroke=\"black\" points=\"26,-55.5 26,-91.5 \"/>\n",
       "<text text-anchor=\"middle\" x=\"79.5\" y=\"-69.8\" font-family=\"Times,serif\" font-size=\"14.00\">data &#45;3.0000</text>\n",
       "<polyline fill=\"none\" stroke=\"black\" points=\"133,-55.5 133,-91.5 \"/>\n",
       "<text text-anchor=\"middle\" x=\"185\" y=\"-69.8\" font-family=\"Times,serif\" font-size=\"14.00\">grad 0.0000</text>\n",
       "</g>\n",
       "<!-- 140666228516576&#45;&gt;140666228514512* -->\n",
       "<g id=\"edge9\" class=\"edge\">\n",
       "<title>140666228516576&#45;&gt;140666228514512*</title>\n",
       "<path fill=\"none\" stroke=\"black\" d=\"M234.96,-55.49C245.12,-53.91 254.8,-52.4 263.41,-51.05\"/>\n",
       "<polygon fill=\"black\" stroke=\"black\" points=\"264.02,-54.5 273.36,-49.5 262.94,-47.58 264.02,-54.5\"/>\n",
       "</g>\n",
       "<!-- 140666228509952 -->\n",
       "<g id=\"node6\" class=\"node\">\n",
       "<title>140666228509952</title>\n",
       "<polygon fill=\"none\" stroke=\"black\" points=\"728.5,-54.5 728.5,-90.5 960.5,-90.5 960.5,-54.5 728.5,-54.5\"/>\n",
       "<text text-anchor=\"middle\" x=\"741.5\" y=\"-68.8\" font-family=\"Times,serif\" font-size=\"14.00\">d</text>\n",
       "<polyline fill=\"none\" stroke=\"black\" points=\"754.5,-54.5 754.5,-90.5 \"/>\n",
       "<text text-anchor=\"middle\" x=\"805.5\" y=\"-68.8\" font-family=\"Times,serif\" font-size=\"14.00\">data 4.0000</text>\n",
       "<polyline fill=\"none\" stroke=\"black\" points=\"856.5,-54.5 856.5,-90.5 \"/>\n",
       "<text text-anchor=\"middle\" x=\"908.5\" y=\"-68.8\" font-family=\"Times,serif\" font-size=\"14.00\">grad 0.0000</text>\n",
       "</g>\n",
       "<!-- 140666228509952&#45;&gt;140666228519216* -->\n",
       "<g id=\"edge4\" class=\"edge\">\n",
       "<title>140666228509952&#45;&gt;140666228519216*</title>\n",
       "<path fill=\"none\" stroke=\"black\" d=\"M960.92,-90.06C970.4,-91.5 979.44,-92.87 987.54,-94.11\"/>\n",
       "<polygon fill=\"black\" stroke=\"black\" points=\"987.19,-97.59 997.6,-95.64 988.24,-90.67 987.19,-97.59\"/>\n",
       "</g>\n",
       "<!-- 140666228509952+&#45;&gt;140666228509952 -->\n",
       "<g id=\"edge2\" class=\"edge\">\n",
       "<title>140666228509952+&#45;&gt;140666228509952</title>\n",
       "<path fill=\"none\" stroke=\"black\" d=\"M692.19,-72.5C699.78,-72.5 708.61,-72.5 718.11,-72.5\"/>\n",
       "<polygon fill=\"black\" stroke=\"black\" points=\"718.24,-76 728.24,-72.5 718.24,-69 718.24,-76\"/>\n",
       "</g>\n",
       "<!-- 140666228519216 -->\n",
       "<g id=\"node8\" class=\"node\">\n",
       "<title>140666228519216</title>\n",
       "<polygon fill=\"none\" stroke=\"black\" points=\"1087,-81.5 1087,-117.5 1324,-117.5 1324,-81.5 1087,-81.5\"/>\n",
       "<text text-anchor=\"middle\" x=\"1100\" y=\"-95.8\" font-family=\"Times,serif\" font-size=\"14.00\">L</text>\n",
       "<polyline fill=\"none\" stroke=\"black\" points=\"1113,-81.5 1113,-117.5 \"/>\n",
       "<text text-anchor=\"middle\" x=\"1166.5\" y=\"-95.8\" font-family=\"Times,serif\" font-size=\"14.00\">data &#45;8.0000</text>\n",
       "<polyline fill=\"none\" stroke=\"black\" points=\"1220,-81.5 1220,-117.5 \"/>\n",
       "<text text-anchor=\"middle\" x=\"1272\" y=\"-95.8\" font-family=\"Times,serif\" font-size=\"14.00\">grad 1.0000</text>\n",
       "</g>\n",
       "<!-- 140666228519216*&#45;&gt;140666228519216 -->\n",
       "<g id=\"edge3\" class=\"edge\">\n",
       "<title>140666228519216*&#45;&gt;140666228519216</title>\n",
       "<path fill=\"none\" stroke=\"black\" d=\"M1051.1,-99.5C1058.61,-99.5 1067.33,-99.5 1076.75,-99.5\"/>\n",
       "<polygon fill=\"black\" stroke=\"black\" points=\"1076.78,-103 1086.78,-99.5 1076.78,-96 1076.78,-103\"/>\n",
       "</g>\n",
       "<!-- 140666228510576 -->\n",
       "<g id=\"node10\" class=\"node\">\n",
       "<title>140666228510576</title>\n",
       "<polygon fill=\"none\" stroke=\"black\" points=\"3,-0.5 3,-36.5 234,-36.5 234,-0.5 3,-0.5\"/>\n",
       "<text text-anchor=\"middle\" x=\"15.5\" y=\"-14.8\" font-family=\"Times,serif\" font-size=\"14.00\">a</text>\n",
       "<polyline fill=\"none\" stroke=\"black\" points=\"28,-0.5 28,-36.5 \"/>\n",
       "<text text-anchor=\"middle\" x=\"79\" y=\"-14.8\" font-family=\"Times,serif\" font-size=\"14.00\">data 2.0000</text>\n",
       "<polyline fill=\"none\" stroke=\"black\" points=\"130,-0.5 130,-36.5 \"/>\n",
       "<text text-anchor=\"middle\" x=\"182\" y=\"-14.8\" font-family=\"Times,serif\" font-size=\"14.00\">grad 0.0000</text>\n",
       "</g>\n",
       "<!-- 140666228510576&#45;&gt;140666228514512* -->\n",
       "<g id=\"edge8\" class=\"edge\">\n",
       "<title>140666228510576&#45;&gt;140666228514512*</title>\n",
       "<path fill=\"none\" stroke=\"black\" d=\"M234.2,-35.75C244.55,-37.31 254.43,-38.8 263.21,-40.12\"/>\n",
       "<polygon fill=\"black\" stroke=\"black\" points=\"262.92,-43.61 273.33,-41.64 263.96,-36.69 262.92,-43.61\"/>\n",
       "</g>\n",
       "</g>\n",
       "</svg>\n"
      ],
      "text/plain": [
       "<graphviz.graphs.Digraph at 0x7fef6aa8b640>"
      ]
     },
     "execution_count": 51,
     "metadata": {},
     "output_type": "execute_result"
    }
   ],
   "source": [
    "draw_dot(L)"
   ]
  },
  {
   "cell_type": "code",
   "execution_count": null,
   "id": "ce58c6dc-36f5-4316-8d99-e969c90eed63",
   "metadata": {},
   "outputs": [],
   "source": []
  }
 ],
 "metadata": {
  "kernelspec": {
   "display_name": "Python 3 (ipykernel)",
   "language": "python",
   "name": "python3"
  },
  "language_info": {
   "codemirror_mode": {
    "name": "ipython",
    "version": 3
   },
   "file_extension": ".py",
   "mimetype": "text/x-python",
   "name": "python",
   "nbconvert_exporter": "python",
   "pygments_lexer": "ipython3",
   "version": "3.10.6"
  }
 },
 "nbformat": 4,
 "nbformat_minor": 5
}
