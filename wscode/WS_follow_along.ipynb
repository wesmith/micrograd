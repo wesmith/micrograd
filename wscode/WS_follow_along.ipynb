{
 "cells": [
  {
   "cell_type": "markdown",
   "id": "60f06fd8-0727-45a2-a08d-4ea33dddeea5",
   "metadata": {},
   "source": [
    "# WS_follow_along\n",
    "# WESmith 06/01/23\n",
    "## follow along with Karpathy video https://www.youtube.com/watch?v=VMj-3S1tku0"
   ]
  },
  {
   "cell_type": "code",
   "execution_count": null,
   "id": "e3159ec9-bd3e-441a-8ae5-6c76ad58d36d",
   "metadata": {},
   "outputs": [],
   "source": []
  }
 ],
 "metadata": {
  "kernelspec": {
   "display_name": "Python 3 (ipykernel)",
   "language": "python",
   "name": "python3"
  },
  "language_info": {
   "codemirror_mode": {
    "name": "ipython",
    "version": 3
   },
   "file_extension": ".py",
   "mimetype": "text/x-python",
   "name": "python",
   "nbconvert_exporter": "python",
   "pygments_lexer": "ipython3",
   "version": "3.10.6"
  }
 },
 "nbformat": 4,
 "nbformat_minor": 5
}
