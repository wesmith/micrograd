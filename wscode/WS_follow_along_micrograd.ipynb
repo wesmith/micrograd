{
 "cells": [
  {
   "cell_type": "markdown",
   "id": "60f06fd8-0727-45a2-a08d-4ea33dddeea5",
   "metadata": {},
   "source": [
    "# WS_follow_along_micrograd\n",
    "# WESmith 06/01/23\n",
    "## follow along with Karpathy video https://www.youtube.com/watch?v=VMj-3S1tku0"
   ]
  },
  {
   "cell_type": "code",
   "execution_count": null,
   "id": "e3159ec9-bd3e-441a-8ae5-6c76ad58d36d",
   "metadata": {},
   "outputs": [],
   "source": [
    "import math\n",
    "import numpy as np\n",
    "from graphviz import Digraph\n",
    "import matplotlib.pyplot as plt\n",
    "%matplotlib inline"
   ]
  },
  {
   "cell_type": "code",
   "execution_count": null,
   "id": "335f30d7-24a7-4bdd-8c39-87967685a199",
   "metadata": {},
   "outputs": [],
   "source": [
    "def f(x):\n",
    "    return 3 * x**2 - 4 * x + 5"
   ]
  },
  {
   "cell_type": "code",
   "execution_count": null,
   "id": "f0597cde-d250-4e99-9f7f-874e8f91e882",
   "metadata": {},
   "outputs": [],
   "source": [
    "f(3.0)"
   ]
  },
  {
   "cell_type": "code",
   "execution_count": null,
   "id": "d437270c-219c-49fa-bfd9-c922cdc95fe9",
   "metadata": {},
   "outputs": [],
   "source": [
    "xs = np.arange(-5, 5, 0.25)\n",
    "ys = f(xs)\n",
    "plt.plot(xs, ys)\n",
    "plt.grid()"
   ]
  },
  {
   "cell_type": "code",
   "execution_count": null,
   "id": "22a47c0b-454e-43cb-b041-5ec74dcb7d40",
   "metadata": {},
   "outputs": [],
   "source": [
    "def diff(f, x, h=0.0001):  # WS\n",
    "    return (f(x + h) - f(x))/h"
   ]
  },
  {
   "cell_type": "code",
   "execution_count": null,
   "id": "3077d0c4-cb4a-4226-a678-6ed3122eb7f4",
   "metadata": {},
   "outputs": [],
   "source": [
    "h = 1e-8\n",
    "diff(f, 3, h=h), diff(f, -3, h=h), diff(f, 2/3, h=h)"
   ]
  },
  {
   "cell_type": "code",
   "execution_count": null,
   "id": "cb144c1e-15b9-4da8-ad08-2823889a6c5b",
   "metadata": {},
   "outputs": [],
   "source": [
    "h = 0.0001\n",
    "a =  2.0\n",
    "b = -3.0\n",
    "c = 10.0\n",
    "d = a * b + c\n",
    "print(d)"
   ]
  },
  {
   "cell_type": "code",
   "execution_count": null,
   "id": "50dbc4ae-0456-4b2f-b17a-aceeb2a2c19c",
   "metadata": {},
   "outputs": [],
   "source": [
    "class Value:\n",
    "    \n",
    "    def __init__(self, data, _children=(), _op='', label=''):\n",
    "        self.data  = data\n",
    "        self.grad  = 0.0\n",
    "        self._backward = lambda: None  # empty function for a leaf node\n",
    "        self._prev = set(_children)\n",
    "        self._op   = _op\n",
    "        self.label = label\n",
    "        \n",
    "    def __repr__(self):\n",
    "        return f\"Value(data={self.data}, grad={self.grad})\"\n",
    "    \n",
    "    def __add__(self, other):\n",
    "        # WS handle adding integers\n",
    "        other = other if isinstance(other, Value) else Value(other)\n",
    "        out   = Value(self.data + other.data, (self, other), '+')\n",
    "        def _backward():\n",
    "            # WS note: must accumulate gradients to handle repetetive\n",
    "            # appearance of a variable (discussed in the video at 1:25:40),\n",
    "            # due to basic calculus rules for multivariate derivatives\n",
    "            self.grad  += 1.0 * out.grad\n",
    "            other.grad += 1.0 * out.grad\n",
    "        out._backward   = _backward\n",
    "        return out\n",
    "\n",
    "    def __pow__(self, other):\n",
    "        assert isinstance(other, (int, float)), 'only supporting int/float powers for now'\n",
    "        out = Value(self.data**other, (self, ), f'**{other}')\n",
    "        def _backward():\n",
    "            self.grad += other * self.data**(other - 1) * out.grad\n",
    "        out._backward  = _backward\n",
    "        return out\n",
    "    \n",
    "    def __mul__(self, other):\n",
    "        # WS handle multiplying by an integer\n",
    "        other = other if isinstance(other, Value) else Value(other)\n",
    "        out   = Value(self.data * other.data, (self, other), '*')\n",
    "        def _backward():\n",
    "            self.grad  += other.data * out.grad\n",
    "            other.grad +=  self.data * out.grad\n",
    "        out._backward   = _backward\n",
    "        return out\n",
    "    \n",
    "    def __radd__(self, other): # other + self\n",
    "        return self + other\n",
    "    \n",
    "    def __rmul__(self, other): # other * self\n",
    "        return self * other\n",
    "    \n",
    "    def __truediv__(self, other): # self / other\n",
    "        return self * other**(-1)\n",
    "    \n",
    "    def __rtruediv__(self, other): # other / self\n",
    "        return other * self**(-1)\n",
    "    \n",
    "    def __neg__(self): # -self\n",
    "        return self * -1\n",
    "    \n",
    "    def __sub__(self, other): # self - other\n",
    "        return self + (-other)\n",
    "    \n",
    "    def __rsub__(self, other): # other - self\n",
    "        return other + (-self)\n",
    "    \n",
    "    def relu(self):\n",
    "        out = Value(0 if self.data < 0 else self.data, (self, ), 'ReLU')\n",
    "        def _backward():\n",
    "            self.grad += (out.data > 0) * out.grad\n",
    "        out._backward  = _backward\n",
    "        return out\n",
    "    \n",
    "    def tanh(self):\n",
    "        x = self.data\n",
    "        v = math.exp(2 * x)\n",
    "        t = (v - 1) / (v + 1)\n",
    "        out = Value(t, (self, ), 'tanh')\n",
    "        # WS note: _backward() has built into it the 'self' pointer to the\n",
    "        # child node to set its grad value, the 't' value of the parent node,\n",
    "        # and the 'out' pointer to the parent node: it is simple and works nicely;\n",
    "        # this is a powerful use of a python function to encapsulate all of this\n",
    "        def _backward():\n",
    "            self.grad += (1 - t**2) * out.grad\n",
    "        out._backward  = _backward\n",
    "        return out\n",
    "    \n",
    "    def exp(self):\n",
    "        x = self.data\n",
    "        out = Value(math.exp(x), (self, ), 'exp')\n",
    "        def _backward():\n",
    "            self.grad += out.data * out.grad\n",
    "        out._backward  = _backward\n",
    "        return out\n",
    "    \n",
    "    def backward(self): # WS this is called on the final node\n",
    "        topo    = []\n",
    "        visited = set()\n",
    "        def build_topo(v):\n",
    "            if v not in visited:\n",
    "                visited.add(v)\n",
    "                for child in v._prev:\n",
    "                    build_topo(child)\n",
    "                topo.append(v)\n",
    "\n",
    "        build_topo(self)\n",
    "        self.grad = 1.0\n",
    "        for node in reversed(topo): # WS calculate all the gradients\n",
    "            node._backward()\n"
   ]
  },
  {
   "cell_type": "code",
   "execution_count": null,
   "id": "ef1a69c6-c689-403b-b017-2bdbc9748606",
   "metadata": {},
   "outputs": [],
   "source": [
    "def trace(root):\n",
    "    # builds a set of all nodes and edges in a graph\n",
    "    nodes, edges = set(), set()\n",
    "    def build(v):\n",
    "        if v not in nodes:\n",
    "            nodes.add(v)\n",
    "            for child in v._prev:\n",
    "                edges.add((child, v))\n",
    "                build(child)\n",
    "    build(root)\n",
    "    return nodes, edges\n",
    "\n",
    "def draw_dot(root):\n",
    "    dot = Digraph(format='svg', graph_attr={'rankdir': 'LR'}) # left to right\n",
    "    \n",
    "    nodes, edges = trace(root)\n",
    "    for n in nodes:\n",
    "        uid = str(id(n)) # WS built-in id() returns the identity of the object\n",
    "        # for any value in the graph, create a rectangular ('record') node for it\n",
    "        dot.node(name=uid, label='{%s | data %.4f | grad %.4f}' %\\\n",
    "                 (n.label, n.data, n.grad), shape='record')\n",
    "        if n._op:\n",
    "            # if this value is a result of some operation, create an op node for it\n",
    "            dot.node(name=uid + n._op, label=n._op)\n",
    "            # and connect this node to it\n",
    "            dot.edge(uid + n._op, uid)\n",
    "            \n",
    "    for n1, n2 in edges:\n",
    "        # connect n1 to the op node of n2\n",
    "        dot.edge(str(id(n1)), str(id(n2)) + n2._op)\n",
    "        \n",
    "    return dot"
   ]
  },
  {
   "cell_type": "code",
   "execution_count": null,
   "id": "7f562b51-3112-4a0d-b48d-2d05065b469a",
   "metadata": {},
   "outputs": [],
   "source": [
    "a = Value(2.0)\n",
    "b = Value(4.0)\n",
    "a / b, a.exp(), a + 1, a * 2, 3 * a  # __rmul__ handles integer * Value"
   ]
  },
  {
   "cell_type": "code",
   "execution_count": null,
   "id": "95150e56-ee33-488b-a1bc-79c9085fb677",
   "metadata": {},
   "outputs": [],
   "source": [
    "c = a - b\n",
    "draw_dot(c)"
   ]
  },
  {
   "cell_type": "code",
   "execution_count": null,
   "id": "e575889b-4c2d-45e8-92a6-11609811396b",
   "metadata": {},
   "outputs": [],
   "source": [
    "d = a/b\n",
    "draw_dot(d)"
   ]
  },
  {
   "cell_type": "raw",
   "id": "c459c91f-6fc1-4e3c-a280-022cbf7704fc",
   "metadata": {},
   "source": [
    "# this fails: integer + Value, since this case not handled\n",
    "4 + a"
   ]
  },
  {
   "cell_type": "code",
   "execution_count": null,
   "id": "c9cfe196-a7d3-4b69-88c8-d4cbd239d486",
   "metadata": {},
   "outputs": [],
   "source": [
    "a = Value( 2.0, label='a')\n",
    "b = Value(-3.0, label='b')\n",
    "c = Value(10.0, label='c')\n",
    "e = a * b; e.label='e'\n",
    "d = e + c; d.label='d'\n",
    "f = Value(-2.0, label='f')\n",
    "L = d * f; L.label='L'\n",
    "L.grad = 1 # root node\n",
    "a + b, a * b, d"
   ]
  },
  {
   "cell_type": "code",
   "execution_count": null,
   "id": "971bfc53-b032-45e3-bb8c-71b0162e9829",
   "metadata": {},
   "outputs": [],
   "source": [
    "a.__add__(b), a.__mul__(b)  # equivalent"
   ]
  },
  {
   "cell_type": "code",
   "execution_count": null,
   "id": "5d225204-f88f-4890-b406-8390b8968d65",
   "metadata": {},
   "outputs": [],
   "source": [
    "d._prev, d._op, type(d._prev)"
   ]
  },
  {
   "cell_type": "code",
   "execution_count": null,
   "id": "edd421e9-79c6-4e6f-afef-c1853417646e",
   "metadata": {},
   "outputs": [],
   "source": [
    "draw_dot(L)"
   ]
  },
  {
   "cell_type": "code",
   "execution_count": null,
   "id": "ce58c6dc-36f5-4316-8d99-e969c90eed63",
   "metadata": {},
   "outputs": [],
   "source": [
    "x = np.arange(-5, 5, 0.2)\n",
    "plt.plot(xs, np.tanh(xs)); plt.grid()"
   ]
  },
  {
   "cell_type": "code",
   "execution_count": null,
   "id": "27a7f245-8460-4306-9c12-459c9db4e821",
   "metadata": {},
   "outputs": [],
   "source": [
    "x1 = Value( 2.0, label='x1')\n",
    "x2 = Value( 0.0, label='x2')\n",
    "w1 = Value(-3.0, label='w1')\n",
    "w2 = Value( 1.0, label='w2')\n",
    "b  = Value( 6.8813736, label='b')\n",
    "x1w1 = x1 * w1; x1w1.label = 'x1*w1'\n",
    "x2w2 = x2 * w2; x2w2.label = 'x2*w2'\n",
    "x1w1x2w2 = x1w1 + x2w2; x1w1x2w2.label = 'x1*w1 + x2*w2'\n",
    "n    = x1w1x2w2 + b; n.label = 'n'\n",
    "o    = n.tanh(); o.label = 'o'"
   ]
  },
  {
   "cell_type": "code",
   "execution_count": null,
   "id": "c4ca2945-1b18-4ba4-95fa-8eea1e0ea20f",
   "metadata": {},
   "outputs": [],
   "source": [
    "draw_dot(o)"
   ]
  },
  {
   "cell_type": "code",
   "execution_count": null,
   "id": "95627a4c-85b0-4c3b-be67-5d6146bb148e",
   "metadata": {},
   "outputs": [],
   "source": [
    "o.backward()"
   ]
  },
  {
   "cell_type": "code",
   "execution_count": null,
   "id": "dd5f8e07-0ad1-428a-bfe1-715419e17815",
   "metadata": {},
   "outputs": [],
   "source": [
    "# build a topological graph\n",
    "topo    = []\n",
    "visited = set()\n",
    "def build_topo(v):\n",
    "    if v not in visited:\n",
    "        visited.add(v)\n",
    "        for child in v._prev:\n",
    "            build_topo(child)\n",
    "        topo.append(v)\n",
    "build_topo(o)"
   ]
  },
  {
   "cell_type": "code",
   "execution_count": null,
   "id": "2730ca67-7223-45ba-a2b3-e651add081b5",
   "metadata": {},
   "outputs": [],
   "source": [
    "for k in reversed(topo): # WS\n",
    "    print('{}: {}'.format(k.label, k.data))\n",
    "    for j in k._prev:\n",
    "        print('   child: {}'.format(j.label))"
   ]
  },
  {
   "cell_type": "code",
   "execution_count": null,
   "id": "ae3877c9-966a-44ac-8443-ae9a86b3ac9a",
   "metadata": {},
   "outputs": [],
   "source": [
    "a = Value(3.0, label='a')\n",
    "b = a + a\n",
    "b.backward()\n",
    "draw_dot(b)"
   ]
  },
  {
   "cell_type": "code",
   "execution_count": null,
   "id": "b92ad7fa-6c54-474c-9213-152880884c09",
   "metadata": {},
   "outputs": [],
   "source": [
    "a = Value(-2.0, label='a')\n",
    "b = Value( 3.0, label='b')\n",
    "d = a * b; d.label = 'd'\n",
    "e = a + b; e.label = 'e'\n",
    "f = d * e; f.label = 'f'\n",
    "f.backward()\n",
    "draw_dot(f)"
   ]
  },
  {
   "cell_type": "code",
   "execution_count": null,
   "id": "22df66b9-fe39-4f2f-8807-2212fb9d85f1",
   "metadata": {},
   "outputs": [],
   "source": []
  },
  {
   "cell_type": "code",
   "execution_count": null,
   "id": "9f2ee45c-d400-4529-9189-2f47153aefcb",
   "metadata": {},
   "outputs": [],
   "source": [
    "x1 = Value( 2.0, label='x1')\n",
    "x2 = Value( 0.0, label='x2')\n",
    "w1 = Value(-3.0, label='w1')\n",
    "w2 = Value( 1.0, label='w2')\n",
    "b  = Value( 6.8813736, label='b')\n",
    "x1w1 = x1 * w1; x1w1.label = 'x1*w1'\n",
    "x2w2 = x2 * w2; x2w2.label = 'x2*w2'\n",
    "x1w1x2w2 = x1w1 + x2w2; x1w1x2w2.label = 'x1*w1 + x2*w2'\n",
    "n    = x1w1x2w2 + b; n.label = 'n'\n",
    "# explicitly implement tanh now:\n",
    "e    = (2*n).exp();     e.label = 'e'\n",
    "o    = (e - 1)/(e + 1); o.label = 'o'\n",
    "o.backward()\n",
    "draw_dot(o)"
   ]
  },
  {
   "cell_type": "code",
   "execution_count": null,
   "id": "f59462cc-87e8-485b-98e2-5b981ade23bc",
   "metadata": {},
   "outputs": [],
   "source": [
    "import torch"
   ]
  },
  {
   "cell_type": "code",
   "execution_count": null,
   "id": "0d1cc7c3-7946-4f37-b74c-ddbad2ac45b0",
   "metadata": {},
   "outputs": [],
   "source": [
    "x1 = torch.Tensor([ 2.0]).double();      x1.requires_grad = True\n",
    "x2 = torch.Tensor([ 0.0]).double();      x2.requires_grad = True\n",
    "w1 = torch.Tensor([-3.0]).double();      w1.requires_grad = True\n",
    "w2 = torch.Tensor([ 1.0]).double();      w2.requires_grad = True\n",
    "b  = torch.Tensor([6.8813736]).double();  b.requires_grad = True\n",
    "n  = x1 * w1 + x2 * w2 + b\n",
    "o  = torch.tanh(n)"
   ]
  },
  {
   "cell_type": "code",
   "execution_count": null,
   "id": "1ff89b06-67d4-45d1-9cde-a75f73d0fced",
   "metadata": {},
   "outputs": [],
   "source": [
    "print(o.data.item())"
   ]
  },
  {
   "cell_type": "code",
   "execution_count": null,
   "id": "e86194bc-0075-48e4-837c-35b7216fc4b9",
   "metadata": {},
   "outputs": [],
   "source": [
    "o.backward()"
   ]
  },
  {
   "cell_type": "code",
   "execution_count": null,
   "id": "35867c17-6ac0-451d-bbb7-fd97cb16fb91",
   "metadata": {},
   "outputs": [],
   "source": [
    "print('x2', x2.grad.item())\n",
    "print('w2', w2.grad.item())\n",
    "print('x1', x1.grad.item())\n",
    "print('w1', w1.grad.item())"
   ]
  },
  {
   "cell_type": "raw",
   "id": "bcc8b009-33cb-47c2-bcca-2d42befb6f99",
   "metadata": {},
   "source": [
    "draw_dot(o) # this fails for torch objects: no _prev attributes"
   ]
  },
  {
   "cell_type": "code",
   "execution_count": null,
   "id": "a1611c3e-7265-4958-9354-fa9dc7a959b6",
   "metadata": {},
   "outputs": [],
   "source": [
    "from numpy import random"
   ]
  },
  {
   "cell_type": "code",
   "execution_count": null,
   "id": "a191811f-ef04-4f3f-95a7-1a5eff76e6c0",
   "metadata": {},
   "outputs": [],
   "source": [
    "class Module: # to keep similarity to pytorch\n",
    "    \n",
    "    def zero_grad(self):\n",
    "        for p in self.parameters():\n",
    "            p.grad = 0\n",
    "            \n",
    "    def parameters(self):\n",
    "        return []\n",
    "\n",
    "class Neuron(Module):\n",
    "\n",
    "    def __init__(self, nin, nonlin=True):\n",
    "        self.nin = nin # WS added\n",
    "        self.w   = [Value(random.uniform(-1, 1)) for _ in range(nin)]\n",
    "        self.b   = Value(random.uniform(-1, 1))\n",
    "        self.nonlin = nonlin # apply a nonlinearity or not to neuron output\n",
    "\n",
    "    def __call__(self, x):\n",
    "        # w * x + b\n",
    "        # WS a clever way to use zip()\n",
    "        act = sum((wi * xi for wi, xi in zip(self.w, x)), self.b)\n",
    "        return act.tanh() if self.nonlin else act\n",
    "\n",
    "    def parameters(self):\n",
    "        return self.w + [self.b] # list plus list\n",
    "\n",
    "    def __repr__(self): # WS added\n",
    "        #return f\"Neuron(num_inputs={self.nin})\"\n",
    "        return f\"{'Tanh' if self.nonlin else 'Linear'}Neuron({len(self.w)})\"\n",
    "\n",
    "class Layer(Module):\n",
    "\n",
    "    def __init__(self, nin, nout, **kwargs):\n",
    "        self.nout    = nout  # WS added\n",
    "        self.neurons = [Neuron(nin, **kwargs) for _ in range(nout)]\n",
    "  \n",
    "    def __call__(self, x):\n",
    "        out = [n(x) for n in self.neurons]\n",
    "        return out[0] if len(out) == 1 else out\n",
    "\n",
    "    def parameters(self):\n",
    "        params = []\n",
    "        for neuron in self.neurons:\n",
    "            ps = neuron.parameters()\n",
    "            params.extend(ps)\n",
    "        return params\n",
    "        # WS below from video: equivalent to the above code\n",
    "        #return [p for neuron in self.neurons for p in neuron.parameters()]\n",
    "\n",
    "    def __repr__(self): # WS added\n",
    "        #return f\"Layer(num_neurons={self.nout})\"\n",
    "        return f\"Layer of [{', '.join(str(n) for n in self.neurons)}]\"\n",
    "\n",
    "class MLP(Module):\n",
    "\n",
    "    def __init__(self, nin, nouts): # WS nouts is a list\n",
    "        self.nin = nin  # WS added\n",
    "        sz = [nin] + nouts\n",
    "        self.layers = [Layer(sz[i], sz[i + 1], nonlin=i!=len(nouts)-1) for i in range(len(nouts))]\n",
    " \n",
    "    def __call__(self, x):\n",
    "        for layer in self.layers:\n",
    "            x = layer(x)\n",
    "        return x\n",
    "\n",
    "    def parameters(self):\n",
    "        return [p for layer in self.layers for p in layer.parameters()]\n",
    "\n",
    "    def __repr__(self): # WS added\n",
    "        #return f\"MLP(num_inputs={self.nin}, layers={self.layers})\"\n",
    "        return f\"MLP of [{', '.join(str(layer) for layer in self.layers)}]\"\n"
   ]
  },
  {
   "cell_type": "code",
   "execution_count": null,
   "id": "2c6fd7a1-6f32-4220-971f-a8067db5bbc5",
   "metadata": {},
   "outputs": [],
   "source": [
    "# WS example of double-list comprehension\n",
    "# Without list comp\n",
    "data = [[1,2,3],[7,8,9]]\n",
    "out1 = []\n",
    "for k in data:\n",
    "    for j in k:\n",
    "        out1.append(j)\n",
    "# with list comp\n",
    "out2 = [j for k in data for j in k]\n",
    "out1, out2"
   ]
  },
  {
   "cell_type": "code",
   "execution_count": null,
   "id": "c1243ae2-449e-423d-b6c7-51d711d7ff92",
   "metadata": {},
   "outputs": [],
   "source": [
    "x = [2.0, 3.0, -1.0]\n",
    "n = MLP(3, [4, 4, 1])\n",
    "n(x)"
   ]
  },
  {
   "cell_type": "code",
   "execution_count": null,
   "id": "3886d192-39b3-44a1-bdcc-af4d819e9d44",
   "metadata": {},
   "outputs": [],
   "source": [
    "len(n.parameters())"
   ]
  },
  {
   "cell_type": "code",
   "execution_count": null,
   "id": "3d30d623-c688-4d22-961d-d170e686d319",
   "metadata": {},
   "outputs": [],
   "source": [
    "xs = [[2.0, 3.0, -1.0], \n",
    "      [3.0, -1.0, 0.5],\n",
    "      [0.5, 1.0, 1.0],\n",
    "      [1.0, 1.0, -1.0]] # 4 input vectors\n",
    "ys = [1.0, -1.0, -1.0, 1.0] # 4 desired targets"
   ]
  },
  {
   "cell_type": "code",
   "execution_count": null,
   "id": "2bc34565-132a-4b25-a97e-26a849b470e4",
   "metadata": {},
   "outputs": [],
   "source": [
    "ypred = [n(x) for x in xs]\n",
    "loss = sum((yout - ygt)**2 for ygt, yout in zip(ys, ypred))\n",
    "loss"
   ]
  },
  {
   "cell_type": "code",
   "execution_count": null,
   "id": "6d3c6e20-e5cc-477d-ba60-2558a218f94b",
   "metadata": {},
   "outputs": [],
   "source": [
    "loss.backward()"
   ]
  },
  {
   "cell_type": "code",
   "execution_count": null,
   "id": "c6019a8a-9b38-4044-9aad-b088d8264200",
   "metadata": {},
   "outputs": [],
   "source": [
    "n.layers[0].neurons[0].w[0].grad"
   ]
  },
  {
   "cell_type": "code",
   "execution_count": null,
   "id": "ea7bf78b-11f7-4011-82ab-5404b5758afe",
   "metadata": {},
   "outputs": [],
   "source": [
    "n.layers[0].neurons[0].w[0].data"
   ]
  },
  {
   "cell_type": "code",
   "execution_count": null,
   "id": "e5434b35-5b1d-4485-bfa9-18c87b508d4d",
   "metadata": {
    "tags": []
   },
   "outputs": [],
   "source": [
    "draw_dot(loss) # really huge"
   ]
  },
  {
   "cell_type": "code",
   "execution_count": null,
   "id": "89b4601a-a67e-41bf-8407-f044cbb03539",
   "metadata": {},
   "outputs": [],
   "source": [
    "n = MLP(3, [4, 4, 1])"
   ]
  },
  {
   "cell_type": "code",
   "execution_count": null,
   "id": "8c3e0a60-49f1-43f2-bdb4-d16f2c9f0bbc",
   "metadata": {},
   "outputs": [],
   "source": [
    "for k in range(50):\n",
    "    \n",
    "    # forward pass\n",
    "    ypred = [n(x) for x in xs]\n",
    "    loss = sum((yout - ygt)**2 for ygt, yout in zip(ys, ypred))\n",
    "    \n",
    "    # backward pass\n",
    "    for p in n.parameters():\n",
    "        p.grad = 0 # essential, since grads are accumulated for each pass\n",
    "    loss.backward()\n",
    "    \n",
    "    # update via gradient descent\n",
    "    for p in n.parameters():\n",
    "        p.data += -0.1 * p.grad\n",
    "        \n",
    "    #print(k, loss.data)\n",
    "print(loss)\n",
    "    "
   ]
  },
  {
   "cell_type": "code",
   "execution_count": null,
   "id": "aec7f670-76e1-40b7-a170-12cce6569f50",
   "metadata": {},
   "outputs": [],
   "source": [
    "[n(x) for x in xs]"
   ]
  },
  {
   "cell_type": "code",
   "execution_count": null,
   "id": "61ec5ca6-5214-434e-8ddc-3acf32fcf428",
   "metadata": {},
   "outputs": [],
   "source": []
  }
 ],
 "metadata": {
  "kernelspec": {
   "display_name": "Python 3 (ipykernel)",
   "language": "python",
   "name": "python3"
  },
  "language_info": {
   "codemirror_mode": {
    "name": "ipython",
    "version": 3
   },
   "file_extension": ".py",
   "mimetype": "text/x-python",
   "name": "python",
   "nbconvert_exporter": "python",
   "pygments_lexer": "ipython3",
   "version": "3.10.6"
  }
 },
 "nbformat": 4,
 "nbformat_minor": 5
}
